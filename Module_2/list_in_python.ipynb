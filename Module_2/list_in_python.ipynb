{
 "cells": [
  {
   "cell_type": "markdown",
   "id": "f696af82-1da9-4963-946e-143d6b88a758",
   "metadata": {},
   "source": [
    "<p style=\"text-align:center\">\n",
    "    <a href=\"https://skills.network\" target=\"_blank\">\n",
    "    <img src=\"https://cf-courses-data.s3.us.cloud-object-storage.appdomain.cloud/assets/logos/SN_web_lightmode.png\" width=\"200\" alt=\"Skills Network Logo\">\n",
    "    </a>\n",
    "</p>\n",
    "\n",
    "# Lists in Python\n",
    "\n",
    "\n",
    "Estimated time needed: **15** minutes\n",
    "    \n",
    "\n",
    "## Objectives\n",
    "\n",
    "After completing this lab you will be able to:\n",
    "\n",
    "*  Perform list operations in Python, including indexing, list manipulation, and copy/clone list.\n"
   ]
  },
  {
   "cell_type": "markdown",
   "id": "3bff8368-4271-425a-83cd-2fe92f2f35c3",
   "metadata": {},
   "source": [
    "<h2>Table of Contents</h2>\n",
    "<div class=\"alert alert-block alert-info\" style=\"margin-top: 20px\">\n",
    "    <ul>\n",
    "        <li>\n",
    "            <a href=\"#dataset\">About the Dataset</a>\n",
    "        </li>\n",
    "        <li>\n",
    "            <a href=\"#list\">Lists</a>\n",
    "            <ul>\n",
    "                <li><a href=\"index\">Indexing</a></li>\n",
    "                <li><a href=\"content\">List Content</a></li>\n",
    "                <li><a href=\"op\">List Operations</a></li>\n",
    "                <li><a href=\"co\">Copy and Clone List</a></li>\n",
    "            </ul>\n",
    "        </li>\n",
    "        <li>\n",
    "            <a href=\"#quiz\">Quiz on Lists</a>\n",
    "        </li>\n",
    "    </ul>\n",
    "   \n",
    "</div>\n",
    "\n",
    "<hr>\n"
   ]
  },
  {
   "cell_type": "markdown",
   "id": "9b96e80e-2a81-4565-9091-0033689c9833",
   "metadata": {},
   "source": [
    "<h2 id=\"#dataset\">About the Dataset</h2>\n"
   ]
  },
  {
   "cell_type": "markdown",
   "id": "2e0b0f31-9921-46c1-b732-12cfb0963a2c",
   "metadata": {},
   "source": [
    "Imagine you received album recommendations from your friends and compiled all of the recommandations into a table, with specific information about each album.\n",
    "\n",
    "The table has one row for each movie and several columns:\n",
    "\n",
    "- **artist** - Name of the artist\n",
    "- **album** - Name of the album\n",
    "- **released_year** - Year the album was released\n",
    "- **length_min_sec** - Length of the album (hours,minutes,seconds)\n",
    "- **genre** - Genre of the album\n",
    "- **music_recording_sales_millions** - Music recording sales (millions in USD) on [SONG://DATABASE](http://www.song-database.com/)\n",
    "- **claimed_sales_millions** - Album's claimed sales (millions in USD) on [SONG://DATABASE](http://www.song-database.com/)\n",
    "- **date_released** - Date on which the album was released\n",
    "- **soundtrack** - Indicates if the album is the movie soundtrack (Y) or (N)\n",
    "- **rating_of_friends** - Indicates the rating from your friends from 1 to 10\n",
    "<br>\n",
    "<br>\n",
    "\n",
    "The dataset can be seen below:\n",
    "\n",
    "<font size=\"1\">\n",
    "<table font-size:xx-small>\n",
    "  <tr>\n",
    "    <th>Artist</th>\n",
    "    <th>Album</th> \n",
    "    <th>Released</th>\n",
    "    <th>Length</th>\n",
    "    <th>Genre</th> \n",
    "    <th>Music recording sales (millions)</th>\n",
    "    <th>Claimed sales (millions)</th>\n",
    "    <th>Released</th>\n",
    "    <th>Soundtrack</th>\n",
    "    <th>Rating (friends)</th>\n",
    "  </tr>\n",
    "  <tr>\n",
    "    <td>Michael Jackson</td>\n",
    "    <td>Thriller</td> \n",
    "    <td>1982</td>\n",
    "    <td>00:42:19</td>\n",
    "    <td>Pop, rock, R&B</td>\n",
    "    <td>46</td>\n",
    "    <td>65</td>\n",
    "    <td>30-Nov-82</td>\n",
    "    <td></td>\n",
    "    <td>10.0</td>\n",
    "  </tr>\n",
    "  <tr>\n",
    "    <td>AC/DC</td>\n",
    "    <td>Back in Black</td> \n",
    "    <td>1980</td>\n",
    "    <td>00:42:11</td>\n",
    "    <td>Hard rock</td>\n",
    "    <td>26.1</td>\n",
    "    <td>50</td>\n",
    "    <td>25-Jul-80</td>\n",
    "    <td></td>\n",
    "    <td>8.5</td>\n",
    "  </tr>\n",
    "    <tr>\n",
    "    <td>Pink Floyd</td>\n",
    "    <td>The Dark Side of the Moon</td> \n",
    "    <td>1973</td>\n",
    "    <td>00:42:49</td>\n",
    "    <td>Progressive rock</td>\n",
    "    <td>24.2</td>\n",
    "    <td>45</td>\n",
    "    <td>01-Mar-73</td>\n",
    "    <td></td>\n",
    "    <td>9.5</td>\n",
    "  </tr>\n",
    "    <tr>\n",
    "    <td>Whitney Houston</td>\n",
    "    <td>The Bodyguard</td> \n",
    "    <td>1992</td>\n",
    "    <td>00:57:44</td>\n",
    "    <td>Soundtrack/R&B, soul, pop</td>\n",
    "    <td>26.1</td>\n",
    "    <td>50</td>\n",
    "    <td>25-Jul-80</td>\n",
    "    <td>Y</td>\n",
    "    <td>7.0</td>\n",
    "  </tr>\n",
    "    <tr>\n",
    "    <td>Meat Loaf</td>\n",
    "    <td>Bat Out of Hell</td> \n",
    "    <td>1977</td>\n",
    "    <td>00:46:33</td>\n",
    "    <td>Hard rock, progressive rock</td>\n",
    "    <td>20.6</td>\n",
    "    <td>43</td>\n",
    "    <td>21-Oct-77</td>\n",
    "    <td></td>\n",
    "    <td>7.0</td>\n",
    "  </tr>\n",
    "    <tr>\n",
    "    <td>Eagles</td>\n",
    "    <td>Their Greatest Hits (1971-1975)</td> \n",
    "    <td>1976</td>\n",
    "    <td>00:43:08</td>\n",
    "    <td>Rock, soft rock, folk rock</td>\n",
    "    <td>32.2</td>\n",
    "    <td>42</td>\n",
    "    <td>17-Feb-76</td>\n",
    "    <td></td>\n",
    "    <td>9.5</td>\n",
    "  </tr>\n",
    "    <tr>\n",
    "    <td>Bee Gees</td>\n",
    "    <td>Saturday Night Fever</td> \n",
    "    <td>1977</td>\n",
    "    <td>1:15:54</td>\n",
    "    <td>Disco</td>\n",
    "    <td>20.6</td>\n",
    "    <td>40</td>\n",
    "    <td>15-Nov-77</td>\n",
    "    <td>Y</td>\n",
    "    <td>9.0</td>\n",
    "  </tr>\n",
    "    <tr>\n",
    "    <td>Fleetwood Mac</td>\n",
    "    <td>Rumours</td> \n",
    "    <td>1977</td>\n",
    "    <td>00:40:01</td>\n",
    "    <td>Soft rock</td>\n",
    "    <td>27.9</td>\n",
    "    <td>40</td>\n",
    "    <td>04-Feb-77</td>\n",
    "    <td></td>\n",
    "    <td>9.5</td>\n",
    "  </tr>\n",
    "</table></font>\n"
   ]
  },
  {
   "cell_type": "markdown",
   "id": "b107175c-0795-44b4-9006-77c8beaf32e4",
   "metadata": {},
   "source": [
    "<hr>\n"
   ]
  },
  {
   "cell_type": "markdown",
   "id": "b6c014e3-645a-432e-8527-8810d65c20bb",
   "metadata": {},
   "source": [
    "<h2 id=\"list\">Lists</h2>\n"
   ]
  },
  {
   "cell_type": "markdown",
   "id": "61d1f56f-9e17-458f-9620-af3651a2f426",
   "metadata": {},
   "source": [
    "<h3 id=\"index\">Indexing</h3>\n"
   ]
  },
  {
   "cell_type": "markdown",
   "id": "5e4fc055-8c66-45c1-9d0a-e88030d00219",
   "metadata": {},
   "source": [
    "We are going to take a look at lists in Python. A list is a sequenced collection of different objects such as integers, strings, and even other lists as well. The address of each element within a list is called an <b>index</b>. An index is used to access and refer to items within a list.\n"
   ]
  },
  {
   "cell_type": "markdown",
   "id": "ac159dc0-04ba-4aa0-b51b-b656c662ce05",
   "metadata": {},
   "source": [
    "<img src=\"https://cf-courses-data.s3.us.cloud-object-storage.appdomain.cloud/IBMDeveloperSkillsNetwork-PY0101EN-SkillsNetwork/labs/Module%202/images/ListsIndex.png\" width=\"1000\">\n"
   ]
  },
  {
   "cell_type": "markdown",
   "id": "d02f9b44-37df-46a7-a33b-435ea0636487",
   "metadata": {},
   "source": [
    " To create a list, type the list within square brackets <b>[ ]</b>, with your content inside the parenthesis and separated by commas. Let’s try it!\n"
   ]
  },
  {
   "cell_type": "code",
   "execution_count": 1,
   "id": "ac316d3c-b74f-443d-99b2-b4a299f14c75",
   "metadata": {},
   "outputs": [
    {
     "data": {
      "text/plain": [
       "['Michael Jackson', 10.1, 1982]"
      ]
     },
     "execution_count": 1,
     "metadata": {},
     "output_type": "execute_result"
    }
   ],
   "source": [
    "# Create a list\n",
    "\n",
    "L = [\"Michael Jackson\", 10.1, 1982]\n",
    "L"
   ]
  },
  {
   "cell_type": "markdown",
   "id": "6cd40f16-f385-4fb7-9610-b5cf08ddf2d2",
   "metadata": {},
   "source": [
    "We can use negative and regular indexing with a list:\n"
   ]
  },
  {
   "cell_type": "markdown",
   "id": "bf7e30e9-6fd1-4479-880c-7d1853096b49",
   "metadata": {},
   "source": [
    "<img src=\"https://cf-courses-data.s3.us.cloud-object-storage.appdomain.cloud/IBMDeveloperSkillsNetwork-PY0101EN-SkillsNetwork/labs/Module%202/images/ListsNeg.png\" width=\"1000\">\n"
   ]
  },
  {
   "cell_type": "code",
   "execution_count": 2,
   "id": "321d9efa-ce34-4ac1-aaea-ed8e658e1015",
   "metadata": {},
   "outputs": [
    {
     "name": "stdout",
     "output_type": "stream",
     "text": [
      "the same element using negative and positive indexing:\n",
      " Postive: Michael Jackson \n",
      " Negative: Michael Jackson\n",
      "the same element using negative and positive indexing:\n",
      " Postive: 10.1 \n",
      " Negative: 10.1\n",
      "the same element using negative and positive indexing:\n",
      " Postive: 1982 \n",
      " Negative: 1982\n"
     ]
    }
   ],
   "source": [
    "# Print the elements on each index\n",
    "\n",
    "print('the same element using negative and positive indexing:\\n Postive:',L[0],\n",
    "'\\n Negative:' , L[-3]  )\n",
    "print('the same element using negative and positive indexing:\\n Postive:',L[1],\n",
    "'\\n Negative:' , L[-2]  )\n",
    "print('the same element using negative and positive indexing:\\n Postive:',L[2],\n",
    "'\\n Negative:' , L[-1]  )"
   ]
  },
  {
   "cell_type": "markdown",
   "id": "616fcee4-2fac-4559-ac0b-4350dc1c8941",
   "metadata": {},
   "source": [
    "<h3 id=\"content\">List Content</h3>\n"
   ]
  },
  {
   "cell_type": "markdown",
   "id": "f114d42b-9704-4e1a-b9b6-201fa6755098",
   "metadata": {},
   "source": [
    "Lists can contain strings, floats, and integers. We can nest other lists, and we can also nest tuples and other data structures. The same indexing conventions apply for nesting:    \n"
   ]
  },
  {
   "cell_type": "code",
   "execution_count": 3,
   "id": "588f6c20-f1ab-447f-9116-1d7a007ef1ee",
   "metadata": {},
   "outputs": [
    {
     "data": {
      "text/plain": [
       "['Michael Jackson', 10.1, 1982, [1, 2], ('A', 1)]"
      ]
     },
     "execution_count": 3,
     "metadata": {},
     "output_type": "execute_result"
    }
   ],
   "source": [
    "# Sample List\n",
    "\n",
    "[\"Michael Jackson\", 10.1, 1982, [1, 2], (\"A\", 1)]"
   ]
  },
  {
   "cell_type": "markdown",
   "id": "af1f5f96-3711-40db-b9d7-52dc5fb5aaa6",
   "metadata": {},
   "source": [
    "<h3 id=\"op\">List Operations</h3>\n"
   ]
  },
  {
   "cell_type": "markdown",
   "id": "787300bc-d013-46d5-8fe8-dd51fca7a25a",
   "metadata": {},
   "source": [
    " We can also perform slicing in lists. For example, if we want the last two elements, we use the following command:\n"
   ]
  },
  {
   "cell_type": "code",
   "execution_count": 4,
   "id": "90231012-827b-4166-a834-fed440ec25e7",
   "metadata": {},
   "outputs": [
    {
     "data": {
      "text/plain": [
       "['Michael Jackson', 10.1, 1982, 'MJ', 1]"
      ]
     },
     "execution_count": 4,
     "metadata": {},
     "output_type": "execute_result"
    }
   ],
   "source": [
    "# Sample List\n",
    "\n",
    "L = [\"Michael Jackson\", 10.1,1982,\"MJ\",1]\n",
    "L"
   ]
  },
  {
   "cell_type": "markdown",
   "id": "951dd01e-0165-416e-a3ea-3f89ced823c5",
   "metadata": {},
   "source": [
    "<img src=\"https://cf-courses-data.s3.us.cloud-object-storage.appdomain.cloud/IBMDeveloperSkillsNetwork-PY0101EN-SkillsNetwork/labs/Module%202/images/ListsSlice.png\" width=\"1000\">\n"
   ]
  },
  {
   "cell_type": "code",
   "execution_count": 5,
   "id": "47685f70-f568-4c8f-ac74-816c1361404a",
   "metadata": {},
   "outputs": [
    {
     "data": {
      "text/plain": [
       "['MJ', 1]"
      ]
     },
     "execution_count": 5,
     "metadata": {},
     "output_type": "execute_result"
    }
   ],
   "source": [
    "# List slicing\n",
    "\n",
    "L[3:5]"
   ]
  },
  {
   "cell_type": "markdown",
   "id": "beb53b66-a9bb-4440-a52d-3d1c0e615a4e",
   "metadata": {},
   "source": [
    "We can use the method <code>extend</code> to add new elements to the list:\n"
   ]
  },
  {
   "cell_type": "code",
   "execution_count": 6,
   "id": "3d854594-9583-4327-b698-8c0864950f7c",
   "metadata": {},
   "outputs": [
    {
     "data": {
      "text/plain": [
       "['Michael Jackson', 10.2, 'pop', 10]"
      ]
     },
     "execution_count": 6,
     "metadata": {},
     "output_type": "execute_result"
    }
   ],
   "source": [
    "# Use extend to add elements to list\n",
    "\n",
    "L = [ \"Michael Jackson\", 10.2]\n",
    "L.extend(['pop', 10])\n",
    "L"
   ]
  },
  {
   "cell_type": "markdown",
   "id": "26997625-7a2f-4fbf-93c2-c025402c555d",
   "metadata": {},
   "source": [
    "Another similar method is <code>append</code>. If we apply <code>append</code> instead of <code>extend</code>, we add one element to the list:\n"
   ]
  },
  {
   "cell_type": "code",
   "execution_count": 7,
   "id": "7909bcb5-7a31-46f1-b232-48a16a894b65",
   "metadata": {},
   "outputs": [
    {
     "data": {
      "text/plain": [
       "['Michael Jackson', 10.2, ['pop', 10]]"
      ]
     },
     "execution_count": 7,
     "metadata": {},
     "output_type": "execute_result"
    }
   ],
   "source": [
    "# Use append to add elements to list\n",
    "\n",
    "L = [ \"Michael Jackson\", 10.2]\n",
    "L.append(['pop', 10])\n",
    "L"
   ]
  },
  {
   "cell_type": "markdown",
   "id": "35497352-cb83-42b1-a390-a22affb503c8",
   "metadata": {},
   "source": [
    " Each time we apply a method, the list changes. If we apply <code>extend</code> we add two new elements to the list. The list <code>L</code> is then modified by adding two new elements:\n"
   ]
  },
  {
   "cell_type": "code",
   "execution_count": 8,
   "id": "228bec4d-e94e-4d8e-bb09-ec64c5772332",
   "metadata": {},
   "outputs": [
    {
     "data": {
      "text/plain": [
       "['Michael Jackson', 10.2, 'pop', 10]"
      ]
     },
     "execution_count": 8,
     "metadata": {},
     "output_type": "execute_result"
    }
   ],
   "source": [
    "# Use extend to add elements to list\n",
    "\n",
    "L = [ \"Michael Jackson\", 10.2]\n",
    "L.extend(['pop', 10])\n",
    "L"
   ]
  },
  {
   "cell_type": "markdown",
   "id": "4a3b2e9f-478b-455d-ab96-22a3cd70e48a",
   "metadata": {},
   "source": [
    "If we append the list  <code>['a','b']</code> we have one new element consisting of a nested list:\n"
   ]
  },
  {
   "cell_type": "code",
   "execution_count": 9,
   "id": "2b63dbcc-8cc7-401f-ba64-786ebbc61413",
   "metadata": {},
   "outputs": [
    {
     "data": {
      "text/plain": [
       "['Michael Jackson', 10.2, 'pop', 10, ['a', 'b']]"
      ]
     },
     "execution_count": 9,
     "metadata": {},
     "output_type": "execute_result"
    }
   ],
   "source": [
    "# Use append to add elements to list\n",
    "\n",
    "L.append(['a','b'])\n",
    "L"
   ]
  },
  {
   "cell_type": "markdown",
   "id": "50f95386-07b0-487b-b4d4-17ece62d63a6",
   "metadata": {},
   "source": [
    "As lists are mutable, we can change them. For example, we can change the first element as follows:\n"
   ]
  },
  {
   "cell_type": "code",
   "execution_count": 10,
   "id": "525fd969-25a1-420a-b7b8-b27728816433",
   "metadata": {},
   "outputs": [
    {
     "name": "stdout",
     "output_type": "stream",
     "text": [
      "Before change: ['disco', 10, 1.2]\n",
      "After change: ['hard rock', 10, 1.2]\n"
     ]
    }
   ],
   "source": [
    "# Change the element based on the index\n",
    "\n",
    "A = [\"disco\", 10, 1.2]\n",
    "print('Before change:', A)\n",
    "A[0] = 'hard rock'\n",
    "print('After change:', A)"
   ]
  },
  {
   "cell_type": "markdown",
   "id": "1907464f-1456-4cfc-ba78-cb5153b61e9c",
   "metadata": {},
   "source": [
    " We can also delete an element of a list using the <code>del</code> command:\n"
   ]
  },
  {
   "cell_type": "code",
   "execution_count": 11,
   "id": "2c326728-75eb-4c6e-a85f-cd1265c3c1a1",
   "metadata": {},
   "outputs": [
    {
     "name": "stdout",
     "output_type": "stream",
     "text": [
      "Before change: ['hard rock', 10, 1.2]\n",
      "After change: [10, 1.2]\n"
     ]
    }
   ],
   "source": [
    "# Delete the element based on the index\n",
    "\n",
    "print('Before change:', A)\n",
    "del(A[0])\n",
    "print('After change:', A)"
   ]
  },
  {
   "cell_type": "markdown",
   "id": "2146e7a6-135d-4bcd-9963-2952f751be90",
   "metadata": {},
   "source": [
    "We can convert a string to a list using <code>split</code>.  For example, the method <code>split</code> translates every group of characters separated by a space into an element in a list:\n"
   ]
  },
  {
   "cell_type": "code",
   "execution_count": 12,
   "id": "54a381bd-fdae-445a-86e9-fb638c2fcdd8",
   "metadata": {},
   "outputs": [
    {
     "data": {
      "text/plain": [
       "['hard', 'rock']"
      ]
     },
     "execution_count": 12,
     "metadata": {},
     "output_type": "execute_result"
    }
   ],
   "source": [
    "# Split the string, default is by space\n",
    "\n",
    "'hard rock'.split()"
   ]
  },
  {
   "cell_type": "markdown",
   "id": "e52f895d-0614-4002-a428-6fd8acf4dc24",
   "metadata": {},
   "source": [
    "We can use the split function to separate strings on a specific character which we call a **delimiter**. We pass the character we would like to split on into the argument, which in this case is a comma.  The result is a list, and each element corresponds to a set of characters that have been separated by a comma: \n"
   ]
  },
  {
   "cell_type": "code",
   "execution_count": 13,
   "id": "dc3cc6e9-7e7d-478d-b5af-e544b8b4fd17",
   "metadata": {},
   "outputs": [
    {
     "data": {
      "text/plain": [
       "['A', 'B', 'C', 'D']"
      ]
     },
     "execution_count": 13,
     "metadata": {},
     "output_type": "execute_result"
    }
   ],
   "source": [
    "# Split the string by comma\n",
    "\n",
    "'A,B,C,D'.split(',')"
   ]
  },
  {
   "cell_type": "markdown",
   "id": "2750f297-0c2e-4cab-8a90-ad4824f6698b",
   "metadata": {},
   "source": [
    "<h3 id=\"co\">Copy and Clone List</h3>\n"
   ]
  },
  {
   "cell_type": "markdown",
   "id": "f3dc6476-e036-416e-be55-94f5ff74d399",
   "metadata": {},
   "source": [
    "When we set one variable <b>B</b> equal to <b>A</b>, both <b>A</b> and <b>B</b> are referencing the same list in memory:\n"
   ]
  },
  {
   "cell_type": "code",
   "execution_count": 14,
   "id": "54e0eb03-0475-4176-9f92-c3885a510aed",
   "metadata": {},
   "outputs": [
    {
     "name": "stdout",
     "output_type": "stream",
     "text": [
      "A: ['hard rock', 10, 1.2]\n",
      "B: ['hard rock', 10, 1.2]\n"
     ]
    }
   ],
   "source": [
    "# Copy (copy by reference) the list A\n",
    "\n",
    "A = [\"hard rock\", 10, 1.2]\n",
    "B = A\n",
    "print('A:', A)\n",
    "print('B:', B)"
   ]
  },
  {
   "cell_type": "markdown",
   "id": "bf98a5d7-9af1-4c30-917b-2304d60afd6e",
   "metadata": {},
   "source": [
    "<img src=\"https://cf-courses-data.s3.us.cloud-object-storage.appdomain.cloud/IBMDeveloperSkillsNetwork-PY0101EN-SkillsNetwork/labs/Module%202/images/ListsRef.png\" width=\"1000\" align=\"center\">\n"
   ]
  },
  {
   "cell_type": "markdown",
   "id": "9d020e8b-89b6-42c8-a95c-ae3bcfd31a20",
   "metadata": {},
   "source": [
    "Initially, the value of the first element in <b>B</b> is set as \"hard rock\". If we change the first element in <b>A</b> to <b>\"banana\"</b>, we get an unexpected side effect.  As <b>A</b> and <b>B</b> are referencing the same list, if we change list <b>A</b>, then list <b>B</b> also changes. If we check the first element of <b>B</b> we get \"banana\" instead of \"hard rock\":\n"
   ]
  },
  {
   "cell_type": "code",
   "execution_count": 15,
   "id": "b162e271-f81d-45f5-8961-38733cca5f65",
   "metadata": {},
   "outputs": [
    {
     "name": "stdout",
     "output_type": "stream",
     "text": [
      "B[0]: hard rock\n",
      "B[0]: banana\n"
     ]
    }
   ],
   "source": [
    "# Examine the copy by reference\n",
    "\n",
    "print('B[0]:', B[0])\n",
    "A[0] = \"banana\"\n",
    "print('B[0]:', B[0])"
   ]
  },
  {
   "cell_type": "markdown",
   "id": "0aa29411-08d7-422e-909b-899cdbef4eac",
   "metadata": {},
   "source": [
    "This is demonstrated in the following figure: \n"
   ]
  },
  {
   "cell_type": "markdown",
   "id": "54f8e19e-7744-44f0-af62-0e974c3ec340",
   "metadata": {},
   "source": [
    "<img src=\"https://cf-courses-data.s3.us.cloud-object-storage.appdomain.cloud/IBMDeveloperSkillsNetwork-PY0101EN-SkillsNetwork/labs/Module%202/images/ListsRefGif.gif\" width=\"1000\">\n"
   ]
  },
  {
   "cell_type": "markdown",
   "id": "02c2bf62-3b13-4ba3-b94b-cef9bee7cd17",
   "metadata": {},
   "source": [
    "You can clone list **A** by using  the following syntax:\n"
   ]
  },
  {
   "cell_type": "code",
   "execution_count": 16,
   "id": "5649a418-f056-43ee-bd68-eb4c3a4c9669",
   "metadata": {},
   "outputs": [
    {
     "data": {
      "text/plain": [
       "['banana', 10, 1.2]"
      ]
     },
     "execution_count": 16,
     "metadata": {},
     "output_type": "execute_result"
    }
   ],
   "source": [
    "# Clone (clone by value) the list A\n",
    "\n",
    "B = A[:]\n",
    "B"
   ]
  },
  {
   "cell_type": "markdown",
   "id": "277ce0dc-7d71-478f-b923-580ae91ace7a",
   "metadata": {},
   "source": [
    " Variable **B** references a new copy or clone of the original list. This is demonstrated in the following figure:\n"
   ]
  },
  {
   "cell_type": "markdown",
   "id": "eada7cce-eff1-4213-9396-6be00655586a",
   "metadata": {},
   "source": [
    "<img src=\"https://cf-courses-data.s3.us.cloud-object-storage.appdomain.cloud/IBMDeveloperSkillsNetwork-PY0101EN-SkillsNetwork/labs/Module%202/images/ListsVal.gif\" width=\"1000\">\n"
   ]
  },
  {
   "cell_type": "markdown",
   "id": "bc82d906-45fc-4f96-b5e6-d81843137adb",
   "metadata": {},
   "source": [
    "Now if you change <b>A</b>, <b>B</b> will not change: \n"
   ]
  },
  {
   "cell_type": "code",
   "execution_count": 17,
   "id": "5d9baf35-9195-4541-bf8c-3b349c46c624",
   "metadata": {},
   "outputs": [
    {
     "name": "stdout",
     "output_type": "stream",
     "text": [
      "B[0]: banana\n",
      "B[0]: banana\n"
     ]
    }
   ],
   "source": [
    "print('B[0]:', B[0])\n",
    "A[0] = \"hard rock\"\n",
    "print('B[0]:', B[0])"
   ]
  },
  {
   "cell_type": "markdown",
   "id": "d009d975-2c48-4fff-b60f-846c2c1c39a5",
   "metadata": {},
   "source": [
    "<h2 id=\"quiz\">Quiz on List</h2>\n"
   ]
  },
  {
   "cell_type": "markdown",
   "id": "10d5a72a-cd6f-45a1-ab4c-16adb93819eb",
   "metadata": {},
   "source": [
    "Create a list <code>a_list</code>, with the following elements <code>1</code>, <code>hello</code>, <code>[1,2,3]</code> and <code>True</code>. \n"
   ]
  },
  {
   "cell_type": "code",
   "execution_count": 19,
   "id": "c468102c-215f-4d83-8677-409544de5255",
   "metadata": {},
   "outputs": [
    {
     "data": {
      "text/plain": [
       "[1, 'hello', [1, 2, 3], True]"
      ]
     },
     "execution_count": 19,
     "metadata": {},
     "output_type": "execute_result"
    }
   ],
   "source": [
    "# Write your code below and press Shift+Enter to execute\n",
    "a_list = [1, \"hello\", [1, 2, 3], True]\n",
    "a_list"
   ]
  },
  {
   "cell_type": "markdown",
   "id": "1da617f2-6369-4c81-a741-5f79b054c515",
   "metadata": {},
   "source": [
    "<details><summary>Click here for the solution</summary>\n",
    "\n",
    "```python\n",
    "a_list = [1, 'hello', [1, 2, 3] , True]\n",
    "a_list\n",
    "\n",
    "```\n",
    "\n",
    "</details>\n"
   ]
  },
  {
   "cell_type": "markdown",
   "id": "19574370-a3e3-47a2-bea7-1a907225926d",
   "metadata": {},
   "source": [
    "Find the value stored at index 1 of <code>a_list</code>.\n"
   ]
  },
  {
   "cell_type": "code",
   "execution_count": 20,
   "id": "09057b36-bec1-443a-8878-106f86f62e0b",
   "metadata": {},
   "outputs": [
    {
     "data": {
      "text/plain": [
       "'hello'"
      ]
     },
     "execution_count": 20,
     "metadata": {},
     "output_type": "execute_result"
    }
   ],
   "source": [
    "# Write your code below and press Shift+Enter to execute\n",
    "a_list[1]"
   ]
  },
  {
   "cell_type": "markdown",
   "id": "f295060d-6b0d-40be-87b9-01d8d8c60ba1",
   "metadata": {},
   "source": [
    "<details><summary>Click here for the solution</summary>\n",
    "\n",
    "```python\n",
    "a_list[1]\n",
    "\n",
    "```\n",
    "\n",
    "</details>\n"
   ]
  },
  {
   "cell_type": "markdown",
   "id": "2a38c98b-d4c0-442a-b684-20631d03f664",
   "metadata": {},
   "source": [
    "Retrieve the elements stored at index 1, 2 and 3 of <code>a_list</code>.\n"
   ]
  },
  {
   "cell_type": "code",
   "execution_count": 21,
   "id": "263209a6-f2c2-451b-9687-b2487da3e8fc",
   "metadata": {},
   "outputs": [
    {
     "data": {
      "text/plain": [
       "['hello', [1, 2, 3], True]"
      ]
     },
     "execution_count": 21,
     "metadata": {},
     "output_type": "execute_result"
    }
   ],
   "source": [
    "# Write your code below and press Shift+Enter to execute\n",
    "a_list[1:4]"
   ]
  },
  {
   "cell_type": "markdown",
   "id": "ca7939bb-0133-4f30-821d-01aa5a9df5a8",
   "metadata": {},
   "source": [
    "<details><summary>Click here for the solution</summary>\n",
    "\n",
    "```python\n",
    "a_list[1:4]\n",
    "\n",
    "```\n",
    "\n",
    "</details>\n"
   ]
  },
  {
   "cell_type": "markdown",
   "id": "7d226d26-d428-4622-9b10-576c1f41c611",
   "metadata": {},
   "source": [
    "Concatenate the following lists <code>A = [1, 'a']</code> and <code>B = [2, 1, 'd']</code>:\n"
   ]
  },
  {
   "cell_type": "code",
   "execution_count": 22,
   "id": "df7e5f02-49b8-4e39-a609-47b252aa9956",
   "metadata": {},
   "outputs": [
    {
     "data": {
      "text/plain": [
       "[1, 'a', 2, 1, 'd']"
      ]
     },
     "execution_count": 22,
     "metadata": {},
     "output_type": "execute_result"
    }
   ],
   "source": [
    "# Write your code below and press Shift+Enter to execute\n",
    "A = [1, 'a']\n",
    "B = [2, 1, 'd']\n",
    "\n",
    "A + B"
   ]
  },
  {
   "cell_type": "markdown",
   "id": "e3af7e0d-b3fa-4de5-b204-19c1b12a2cc9",
   "metadata": {},
   "source": [
    "<details><summary>Click here for the solution</summary>\n",
    "\n",
    "```python\n",
    "A = [1, 'a'] \n",
    "B = [2, 1, 'd']\n",
    "A + B\n",
    "\n",
    "```\n",
    "\n",
    "</details>\n"
   ]
  },
  {
   "cell_type": "markdown",
   "id": "85fa0ab4-0848-4483-bf7d-cb8bc5ee1bec",
   "metadata": {},
   "source": [
    "<hr>\n",
    "<h2>The last exercise!</h2>\n",
    "<p>Congratulations, you have completed your first lesson and hands-on lab in Python. \n",
    "<hr>\n"
   ]
  },
  {
   "cell_type": "markdown",
   "id": "8c980b41-9eb8-4afe-bd19-3d9c9e4a1dfc",
   "metadata": {},
   "source": [
    "## Author\n",
    "\n",
    "<a href=\"https://www.linkedin.com/in/joseph-s-50398b136/\" target=\"_blank\">Joseph Santarcangelo</a>\n",
    "\n",
    "\n",
    "## Other contributors\n",
    "\n",
    "<a href=\"www.linkedin.com/in/jiahui-mavis-zhou-a4537814a\">Mavis Zhou</a>\n",
    "\n",
    "\n",
    "## Change Log\n",
    "\n",
    "\n",
    "|  Date (YYYY-MM-DD) |  Version | Changed By  |  Change Description |\n",
    "|---|---|---|---|\n",
    "| 2022-01-10  | 2.1  | Malika  | Removed the readme for GitShare|\n",
    "| 2020-08-26  | 2.0  | Lavanya | Moved lab to course repo in GitLab |\n",
    "|   |   |   |   |\n",
    "|   |   |   |   |\n",
    "\n",
    "\n",
    "## <h3 align=\"center\"> © IBM Corporation 2020. All rights reserved. <h3/>\n"
   ]
  }
 ],
 "metadata": {
  "kernelspec": {
   "display_name": "base",
   "language": "python",
   "name": "python3"
  },
  "language_info": {
   "codemirror_mode": {
    "name": "ipython",
    "version": 3
   },
   "file_extension": ".py",
   "mimetype": "text/x-python",
   "name": "python",
   "nbconvert_exporter": "python",
   "pygments_lexer": "ipython3",
   "version": "3.9.13"
  },
  "prev_pub_hash": "71a916d54d79a57ae69b13820d3d36e31188dc13ac9314e9903e9b3730b972a7"
 },
 "nbformat": 4,
 "nbformat_minor": 4
}
